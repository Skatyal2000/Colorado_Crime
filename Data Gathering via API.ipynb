{
 "cells": [
  {
   "cell_type": "code",
   "execution_count": 1,
   "id": "4fa19f5c-096a-4c62-b565-badd555175e3",
   "metadata": {},
   "outputs": [],
   "source": [
    "import requests\n",
    "import pandas as pd\n",
    "import time\n",
    "import numpy as np\n",
    "import seaborn as sns\n",
    "import matplotlib.pyplot as plt"
   ]
  },
  {
   "cell_type": "code",
   "execution_count": 2,
   "id": "a3e3fccd-6450-42c9-b53a-7b1eda49d89a",
   "metadata": {},
   "outputs": [],
   "source": [
    "url = \"https://data.cityofnewyork.us/resource/8h9b-rp9u.json\""
   ]
  },
  {
   "cell_type": "code",
   "execution_count": 3,
   "id": "79b09812-8000-49ab-a731-b43e8ce64d8d",
   "metadata": {},
   "outputs": [],
   "source": [
    "params = {\n",
    "    \"$limit\": 6000000,  # Set a limit higher than the total number of rows\n",
    "    \"$offset\": 0  # Start from the first row\n",
    "}"
   ]
  },
  {
   "cell_type": "code",
   "execution_count": 4,
   "id": "dcd938f8-9343-4ef6-a960-9ed2cdae7929",
   "metadata": {},
   "outputs": [],
   "source": [
    "response = requests.get(url, params = params).json()"
   ]
  },
  {
   "cell_type": "code",
   "execution_count": 6,
   "id": "907ba8d4-66d6-4f17-9197-6b59c68d3d52",
   "metadata": {},
   "outputs": [
    {
     "data": {
      "text/plain": [
       "{'arrest_key': '237354740',\n",
       " 'arrest_date': '2021-12-04T00:00:00.000',\n",
       " 'pd_cd': '153',\n",
       " 'pd_desc': 'RAPE 3',\n",
       " 'ky_cd': '104',\n",
       " 'ofns_desc': 'RAPE',\n",
       " 'law_code': 'PL 1302502',\n",
       " 'law_cat_cd': 'F',\n",
       " 'arrest_boro': 'B',\n",
       " 'arrest_precinct': '41',\n",
       " 'jurisdiction_code': '0',\n",
       " 'age_group': '25-44',\n",
       " 'perp_sex': 'M',\n",
       " 'perp_race': 'WHITE HISPANIC',\n",
       " 'x_coord_cd': '1013232',\n",
       " 'y_coord_cd': '236725',\n",
       " 'latitude': '40.816391847000034',\n",
       " 'longitude': '-73.89529641399997',\n",
       " 'lon_lat': {'type': 'Point',\n",
       "  'coordinates': [-73.89529641399997, 40.816391847000034]},\n",
       " ':@computed_region_efsh_h5xi': '10937',\n",
       " ':@computed_region_f5dn_yrer': '8',\n",
       " ':@computed_region_yeji_bk3q': '5',\n",
       " ':@computed_region_92fq_4b7q': '43',\n",
       " ':@computed_region_sbqj_enih': '24'}"
      ]
     },
     "execution_count": 6,
     "metadata": {},
     "output_type": "execute_result"
    }
   ],
   "source": [
    "response[1]"
   ]
  },
  {
   "cell_type": "code",
   "execution_count": 7,
   "id": "1f60ff3c-d8b7-407b-b724-aec9a86b1561",
   "metadata": {},
   "outputs": [],
   "source": [
    "all_key = ['arrest_key','arrest_date', 'pd_cd','pd_desc','law_code','law_cat_cd','arrest_boro','arrest_precinct','jurisdiction_code','age_group','perp_sex','perp_race','x_coord_cd','y_coord_cd','latitude','longitude']"
   ]
  },
  {
   "cell_type": "code",
   "execution_count": 8,
   "id": "99e3a613-5407-480d-8085-d2a87d379d32",
   "metadata": {},
   "outputs": [],
   "source": [
    "data = {key: [] for key in all_key}\n",
    "\n",
    "for item in response:\n",
    "    for key in all_key:\n",
    "        try:\n",
    "            data[key].append(item[key])\n",
    "        except KeyError:\n",
    "            data[key].append(None)"
   ]
  },
  {
   "cell_type": "code",
   "execution_count": 9,
   "id": "90f3d8f1-6944-4280-a189-2707897180be",
   "metadata": {},
   "outputs": [],
   "source": [
    "df = pd.DataFrame(data)"
   ]
  },
  {
   "cell_type": "code",
   "execution_count": 10,
   "id": "d1f939d9-845a-49b8-a111-9cee44529225",
   "metadata": {},
   "outputs": [
    {
     "data": {
      "text/html": [
       "<div>\n",
       "<style scoped>\n",
       "    .dataframe tbody tr th:only-of-type {\n",
       "        vertical-align: middle;\n",
       "    }\n",
       "\n",
       "    .dataframe tbody tr th {\n",
       "        vertical-align: top;\n",
       "    }\n",
       "\n",
       "    .dataframe thead th {\n",
       "        text-align: right;\n",
       "    }\n",
       "</style>\n",
       "<table border=\"1\" class=\"dataframe\">\n",
       "  <thead>\n",
       "    <tr style=\"text-align: right;\">\n",
       "      <th></th>\n",
       "      <th>arrest_key</th>\n",
       "      <th>arrest_date</th>\n",
       "      <th>pd_cd</th>\n",
       "      <th>pd_desc</th>\n",
       "      <th>law_code</th>\n",
       "      <th>law_cat_cd</th>\n",
       "      <th>arrest_boro</th>\n",
       "      <th>arrest_precinct</th>\n",
       "      <th>jurisdiction_code</th>\n",
       "      <th>age_group</th>\n",
       "      <th>perp_sex</th>\n",
       "      <th>perp_race</th>\n",
       "      <th>x_coord_cd</th>\n",
       "      <th>y_coord_cd</th>\n",
       "      <th>latitude</th>\n",
       "      <th>longitude</th>\n",
       "    </tr>\n",
       "  </thead>\n",
       "  <tbody>\n",
       "    <tr>\n",
       "      <th>0</th>\n",
       "      <td>236791704</td>\n",
       "      <td>2021-11-22T00:00:00.000</td>\n",
       "      <td>581</td>\n",
       "      <td>None</td>\n",
       "      <td>PL 2225001</td>\n",
       "      <td>M</td>\n",
       "      <td>M</td>\n",
       "      <td>28</td>\n",
       "      <td>0</td>\n",
       "      <td>45-64</td>\n",
       "      <td>M</td>\n",
       "      <td>BLACK</td>\n",
       "      <td>997427</td>\n",
       "      <td>230378</td>\n",
       "      <td>40.799008797000056</td>\n",
       "      <td>-73.95240854099995</td>\n",
       "    </tr>\n",
       "    <tr>\n",
       "      <th>1</th>\n",
       "      <td>237354740</td>\n",
       "      <td>2021-12-04T00:00:00.000</td>\n",
       "      <td>153</td>\n",
       "      <td>RAPE 3</td>\n",
       "      <td>PL 1302502</td>\n",
       "      <td>F</td>\n",
       "      <td>B</td>\n",
       "      <td>41</td>\n",
       "      <td>0</td>\n",
       "      <td>25-44</td>\n",
       "      <td>M</td>\n",
       "      <td>WHITE HISPANIC</td>\n",
       "      <td>1013232</td>\n",
       "      <td>236725</td>\n",
       "      <td>40.816391847000034</td>\n",
       "      <td>-73.89529641399997</td>\n",
       "    </tr>\n",
       "    <tr>\n",
       "      <th>2</th>\n",
       "      <td>236081433</td>\n",
       "      <td>2021-11-09T00:00:00.000</td>\n",
       "      <td>681</td>\n",
       "      <td>CHILD, ENDANGERING WELFARE</td>\n",
       "      <td>PL 2601001</td>\n",
       "      <td>M</td>\n",
       "      <td>Q</td>\n",
       "      <td>113</td>\n",
       "      <td>0</td>\n",
       "      <td>25-44</td>\n",
       "      <td>M</td>\n",
       "      <td>BLACK</td>\n",
       "      <td>1046367</td>\n",
       "      <td>186986</td>\n",
       "      <td>40.67970040800003</td>\n",
       "      <td>-73.77604736799998</td>\n",
       "    </tr>\n",
       "    <tr>\n",
       "      <th>3</th>\n",
       "      <td>32311380</td>\n",
       "      <td>2007-06-18T00:00:00.000</td>\n",
       "      <td>511.0</td>\n",
       "      <td>CONTROLLED SUBSTANCE, POSSESSION 7</td>\n",
       "      <td>PL 2200300</td>\n",
       "      <td>M</td>\n",
       "      <td>Q</td>\n",
       "      <td>27</td>\n",
       "      <td>1.0</td>\n",
       "      <td>18-24</td>\n",
       "      <td>M</td>\n",
       "      <td>BLACK</td>\n",
       "      <td>None</td>\n",
       "      <td>None</td>\n",
       "      <td>None</td>\n",
       "      <td>None</td>\n",
       "    </tr>\n",
       "    <tr>\n",
       "      <th>4</th>\n",
       "      <td>192799737</td>\n",
       "      <td>2019-01-26T00:00:00.000</td>\n",
       "      <td>177</td>\n",
       "      <td>SEXUAL ABUSE</td>\n",
       "      <td>PL 1306503</td>\n",
       "      <td>F</td>\n",
       "      <td>M</td>\n",
       "      <td>25</td>\n",
       "      <td>0</td>\n",
       "      <td>45-64</td>\n",
       "      <td>M</td>\n",
       "      <td>BLACK</td>\n",
       "      <td>1000555</td>\n",
       "      <td>230994</td>\n",
       "      <td>40.800694331000045</td>\n",
       "      <td>-73.941109285999971</td>\n",
       "    </tr>\n",
       "  </tbody>\n",
       "</table>\n",
       "</div>"
      ],
      "text/plain": [
       "  arrest_key              arrest_date  pd_cd  \\\n",
       "0  236791704  2021-11-22T00:00:00.000    581   \n",
       "1  237354740  2021-12-04T00:00:00.000    153   \n",
       "2  236081433  2021-11-09T00:00:00.000    681   \n",
       "3   32311380  2007-06-18T00:00:00.000  511.0   \n",
       "4  192799737  2019-01-26T00:00:00.000    177   \n",
       "\n",
       "                              pd_desc    law_code law_cat_cd arrest_boro  \\\n",
       "0                                None  PL 2225001          M           M   \n",
       "1                              RAPE 3  PL 1302502          F           B   \n",
       "2          CHILD, ENDANGERING WELFARE  PL 2601001          M           Q   \n",
       "3  CONTROLLED SUBSTANCE, POSSESSION 7  PL 2200300          M           Q   \n",
       "4                        SEXUAL ABUSE  PL 1306503          F           M   \n",
       "\n",
       "  arrest_precinct jurisdiction_code age_group perp_sex       perp_race  \\\n",
       "0              28                 0     45-64        M           BLACK   \n",
       "1              41                 0     25-44        M  WHITE HISPANIC   \n",
       "2             113                 0     25-44        M           BLACK   \n",
       "3              27               1.0     18-24        M           BLACK   \n",
       "4              25                 0     45-64        M           BLACK   \n",
       "\n",
       "  x_coord_cd y_coord_cd            latitude            longitude  \n",
       "0     997427     230378  40.799008797000056   -73.95240854099995  \n",
       "1    1013232     236725  40.816391847000034   -73.89529641399997  \n",
       "2    1046367     186986   40.67970040800003   -73.77604736799998  \n",
       "3       None       None                None                 None  \n",
       "4    1000555     230994  40.800694331000045  -73.941109285999971  "
      ]
     },
     "execution_count": 10,
     "metadata": {},
     "output_type": "execute_result"
    }
   ],
   "source": [
    "df.head()"
   ]
  },
  {
   "cell_type": "code",
   "execution_count": 11,
   "id": "b7d9e234-6792-47ff-84c8-fbc4f1e91d21",
   "metadata": {},
   "outputs": [],
   "source": [
    "df.to_csv('ArrestData.csv', index=False)"
   ]
  }
 ],
 "metadata": {
  "kernelspec": {
   "display_name": "Python 3 (ipykernel)",
   "language": "python",
   "name": "python3"
  },
  "language_info": {
   "codemirror_mode": {
    "name": "ipython",
    "version": 3
   },
   "file_extension": ".py",
   "mimetype": "text/x-python",
   "name": "python",
   "nbconvert_exporter": "python",
   "pygments_lexer": "ipython3",
   "version": "3.12.2"
  }
 },
 "nbformat": 4,
 "nbformat_minor": 5
}
